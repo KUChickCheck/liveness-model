{
 "cells": [
  {
   "cell_type": "code",
   "execution_count": 2,
   "metadata": {},
   "outputs": [
    {
     "name": "stderr",
     "output_type": "stream",
     "text": [
      "c:\\Users\\Jiras\\Desktop\\LivenessModel\\.venv\\Lib\\site-packages\\tqdm\\auto.py:21: TqdmWarning: IProgress not found. Please update jupyter and ipywidgets. See https://ipywidgets.readthedocs.io/en/stable/user_install.html\n",
      "  from .autonotebook import tqdm as notebook_tqdm\n"
     ]
    }
   ],
   "source": [
    "import torch\n",
    "import torch.nn as nn\n",
    "from transformers import ViTForImageClassification, ViTImageProcessor\n",
    "from torchvision import datasets, transforms\n",
    "from torch.utils.data import DataLoader\n",
    "import os\n",
    "from PIL import Image"
   ]
  },
  {
   "cell_type": "code",
   "execution_count": 2,
   "metadata": {},
   "outputs": [
    {
     "name": "stdout",
     "output_type": "stream",
     "text": [
      "Using device: cpu\n"
     ]
    }
   ],
   "source": [
    "# Check if CUDA is available and select the device\n",
    "device = torch.device(\"cuda\" if torch.cuda.is_available() else \"cpu\")\n",
    "print(f\"Using device: {device}\")"
   ]
  },
  {
   "cell_type": "code",
   "execution_count": 13,
   "metadata": {},
   "outputs": [
    {
     "name": "stderr",
     "output_type": "stream",
     "text": [
      "Some weights of ViTForImageClassification were not initialized from the model checkpoint at google/vit-base-patch16-224-in21k and are newly initialized: ['classifier.bias', 'classifier.weight']\n",
      "You should probably TRAIN this model on a down-stream task to be able to use it for predictions and inference.\n"
     ]
    }
   ],
   "source": [
    "# Load ViT model\n",
    "model_name = \"google/vit-base-patch16-224-in21k\"\n",
    "model = ViTForImageClassification.from_pretrained(model_name, num_labels=5)  # 5 classes: live, 3D mask, digital, print, papercut\n",
    "model.to(device)\n",
    "feature_processor = ViTImageProcessor.from_pretrained(model_name)"
   ]
  },
  {
   "cell_type": "code",
   "execution_count": 14,
   "metadata": {},
   "outputs": [],
   "source": [
    "# **Data Augmentation for Liveness Detection**\n",
    "train_transform = transforms.Compose([\n",
    "    transforms.RandomHorizontalFlip(p=0.5),  # 50% chance of flipping\n",
    "    transforms.RandomRotation(degrees=20),  # Rotate (-20 to +20 degrees)\n",
    "    transforms.ColorJitter(brightness=0.3, contrast=0.3, saturation=0.3),  # Lighting changes\n",
    "    transforms.RandomAffine(degrees=15, shear=10, scale=(0.9, 1.1)),  # Shear & perspective shifts\n",
    "    transforms.RandomGrayscale(p=0.2),  # Convert some images to grayscale\n",
    "    transforms.GaussianBlur(kernel_size=3),  # Simulate camera blur\n",
    "    transforms.RandomErasing(p=0.2, scale=(0.02, 0.1), ratio=(0.3, 3.3)),  # Simulate occlusion\n",
    "    transforms.Resize((224, 224)),\n",
    "    transforms.ToTensor(),\n",
    "    transforms.Normalize(mean=[0.5, 0.5, 0.5], std=[0.5, 0.5, 0.5]),\n",
    "])\n",
    "\n",
    "val_transform = transforms.Compose([\n",
    "    transforms.Resize((224, 224)),\n",
    "    transforms.ToTensor(),\n",
    "    transforms.Normalize(mean=[0.5, 0.5, 0.5], std=[0.5, 0.5, 0.5]),\n",
    "])"
   ]
  },
  {
   "cell_type": "code",
   "execution_count": 15,
   "metadata": {},
   "outputs": [],
   "source": [
    "# Dataset directories\n",
    "train_dir = 'dataset/Data/train'\n",
    "val_dir = 'dataset/Data/val'\n",
    "\n",
    "# Load datasets\n",
    "train_dataset = datasets.ImageFolder(root=train_dir, transform=val_transform)\n",
    "val_dataset = datasets.ImageFolder(root=val_dir, transform=val_transform)\n",
    "\n",
    "train_loader = DataLoader(train_dataset, batch_size=32, shuffle=True)\n",
    "val_loader = DataLoader(val_dataset, batch_size=32, shuffle=False)\n",
    "\n",
    "# Define loss function and optimizer\n",
    "loss_fn = nn.CrossEntropyLoss()\n",
    "optimizer = torch.optim.Adam(model.parameters(), lr=0.0001)"
   ]
  },
  {
   "cell_type": "code",
   "execution_count": 6,
   "metadata": {},
   "outputs": [
    {
     "name": "stdout",
     "output_type": "stream",
     "text": [
      "Epoch 1/10 | Train Loss: 0.1079 | Train Accuracy: 0.9709\n",
      "Epoch 1/10 | Val Loss: 0.0405 | Val Accuracy: 0.9870\n",
      "Epoch 2/10 | Train Loss: 0.0268 | Train Accuracy: 0.9919\n",
      "Epoch 2/10 | Val Loss: 0.0316 | Val Accuracy: 0.9899\n",
      "Epoch 3/10 | Train Loss: 0.0210 | Train Accuracy: 0.9935\n",
      "Epoch 3/10 | Val Loss: 0.0333 | Val Accuracy: 0.9896\n",
      "Epoch 4/10 | Train Loss: 0.0158 | Train Accuracy: 0.9950\n",
      "Epoch 4/10 | Val Loss: 0.0477 | Val Accuracy: 0.9871\n",
      "Epoch 5/10 | Train Loss: 0.0145 | Train Accuracy: 0.9955\n",
      "Epoch 5/10 | Val Loss: 0.0207 | Val Accuracy: 0.9941\n",
      "Epoch 6/10 | Train Loss: 0.0109 | Train Accuracy: 0.9969\n",
      "Epoch 6/10 | Val Loss: 0.0145 | Val Accuracy: 0.9963\n",
      "Epoch 7/10 | Train Loss: 0.0130 | Train Accuracy: 0.9961\n",
      "Epoch 7/10 | Val Loss: 0.0571 | Val Accuracy: 0.9827\n",
      "Epoch 8/10 | Train Loss: 0.0099 | Train Accuracy: 0.9970\n",
      "Epoch 8/10 | Val Loss: 0.0421 | Val Accuracy: 0.9886\n",
      "Epoch 9/10 | Train Loss: 0.0107 | Train Accuracy: 0.9965\n",
      "Epoch 9/10 | Val Loss: 0.0330 | Val Accuracy: 0.9899\n",
      "Epoch 10/10 | Train Loss: 0.0086 | Train Accuracy: 0.9974\n",
      "Epoch 10/10 | Val Loss: 0.0239 | Val Accuracy: 0.9939\n",
      "Training complete!\n"
     ]
    }
   ],
   "source": [
    "num_epochs = 10  # Train longer for better accuracy\n",
    "for epoch in range(num_epochs):\n",
    "    ####### TRAINING PHASE #######\n",
    "    model.train()\n",
    "    running_loss = 0.0\n",
    "    correct = 0\n",
    "    total = 0\n",
    "    \n",
    "    for images, labels in train_loader:\n",
    "        images, labels = images.to(device), labels.to(device)  # Move to GPU\n",
    "        \n",
    "        optimizer.zero_grad()\n",
    "        outputs = model(images).logits  # Forward pass\n",
    "        loss = loss_fn(outputs, labels)  # Compute loss\n",
    "\n",
    "        loss.backward()  # Backpropagation\n",
    "        optimizer.step()  # Update weights\n",
    "\n",
    "        # Training accuracy calculation\n",
    "        _, predicted = torch.max(outputs, 1)\n",
    "        correct += (predicted == labels).sum().item()\n",
    "        total += labels.size(0)\n",
    "        running_loss += loss.item()\n",
    "\n",
    "    train_loss = running_loss / len(train_loader)\n",
    "    train_accuracy = correct / total\n",
    "\n",
    "    ####### VALIDATION PHASE #######\n",
    "    model.eval()  # Set model to evaluation mode (turns off dropout, batch norm, etc.)\n",
    "    val_loss = 0.0\n",
    "    correct = 0\n",
    "    total = 0\n",
    "\n",
    "    with torch.no_grad():  # Disable gradient calculation for validation\n",
    "        for images, labels in val_loader:\n",
    "            images, labels = images.to(device), labels.to(device)\n",
    "            outputs = model(images).logits\n",
    "            loss = loss_fn(outputs, labels)  # Compute validation loss\n",
    "\n",
    "            # Validation accuracy calculation\n",
    "            _, predicted = torch.max(outputs, 1)\n",
    "            correct += (predicted == labels).sum().item()\n",
    "            total += labels.size(0)\n",
    "            val_loss += loss.item()\n",
    "\n",
    "    val_loss /= len(val_loader)\n",
    "    val_accuracy = correct / total\n",
    "    \n",
    "    print(f\"Epoch {epoch+1}/{num_epochs} | Train Loss: {train_loss:.4f} | Train Accuracy: {train_accuracy:.4f}\")\n",
    "    print(f\"Epoch {epoch+1}/{num_epochs} | Val Loss: {val_loss:.4f} | Val Accuracy: {val_accuracy:.4f}\")\n",
    "\n",
    "print(\"Training complete!\")\n"
   ]
  },
  {
   "cell_type": "code",
   "execution_count": 7,
   "metadata": {},
   "outputs": [
    {
     "name": "stdout",
     "output_type": "stream",
     "text": [
      "Model saved to vit_liveness_detection_modelV2.pth\n"
     ]
    }
   ],
   "source": [
    "# Save the model after training\n",
    "model_save_path = 'vit_liveness_detection_modelV2.pth'\n",
    "torch.save(model.state_dict(), model_save_path)\n",
    "print(f\"Model saved to {model_save_path}\")"
   ]
  },
  {
   "cell_type": "code",
   "execution_count": 2,
   "metadata": {},
   "outputs": [
    {
     "name": "stdout",
     "output_type": "stream",
     "text": [
      "Requirement already satisfied: matplotlib in c:\\users\\jiras\\anaconda3\\lib\\site-packages (3.9.2)\n",
      "Requirement already satisfied: contourpy>=1.0.1 in c:\\users\\jiras\\anaconda3\\lib\\site-packages (from matplotlib) (1.2.0)\n",
      "Requirement already satisfied: cycler>=0.10 in c:\\users\\jiras\\anaconda3\\lib\\site-packages (from matplotlib) (0.11.0)\n",
      "Requirement already satisfied: fonttools>=4.22.0 in c:\\users\\jiras\\anaconda3\\lib\\site-packages (from matplotlib) (4.51.0)\n",
      "Requirement already satisfied: kiwisolver>=1.3.1 in c:\\users\\jiras\\anaconda3\\lib\\site-packages (from matplotlib) (1.4.4)\n",
      "Requirement already satisfied: numpy>=1.23 in c:\\users\\jiras\\appdata\\roaming\\python\\python312\\site-packages (from matplotlib) (1.26.4)\n",
      "Requirement already satisfied: packaging>=20.0 in c:\\users\\jiras\\appdata\\roaming\\python\\python312\\site-packages (from matplotlib) (20.9)\n",
      "Requirement already satisfied: pillow>=8 in c:\\users\\jiras\\appdata\\roaming\\python\\python312\\site-packages (from matplotlib) (11.0.0)\n",
      "Requirement already satisfied: pyparsing>=2.3.1 in c:\\users\\jiras\\appdata\\roaming\\python\\python312\\site-packages (from matplotlib) (3.1.2)\n",
      "Requirement already satisfied: python-dateutil>=2.7 in c:\\users\\jiras\\appdata\\roaming\\python\\python312\\site-packages (from matplotlib) (2.9.0.post0)\n",
      "Requirement already satisfied: six>=1.5 in c:\\users\\jiras\\appdata\\roaming\\python\\python312\\site-packages (from python-dateutil>=2.7->matplotlib) (1.16.0)\n"
     ]
    }
   ],
   "source": [
    "!pip install matplotlib"
   ]
  },
  {
   "cell_type": "code",
   "execution_count": 10,
   "metadata": {},
   "outputs": [
    {
     "name": "stderr",
     "output_type": "stream",
     "text": [
      "Some weights of ViTForImageClassification were not initialized from the model checkpoint at google/vit-base-patch16-224-in21k and are newly initialized: ['classifier.bias', 'classifier.weight']\n",
      "You should probably TRAIN this model on a down-stream task to be able to use it for predictions and inference.\n"
     ]
    },
    {
     "name": "stdout",
     "output_type": "stream",
     "text": [
      "Model loaded successfully on cpu\n"
     ]
    }
   ],
   "source": [
    "import numpy as np\n",
    "import torch\n",
    "from PIL import Image\n",
    "from torchvision import transforms\n",
    "import matplotlib.pyplot as plt\n",
    "from transformers import ViTForImageClassification\n",
    "\n",
    "# Automatically choose device (GPU if available, otherwise CPU)\n",
    "device = torch.device(\"cuda\" if torch.cuda.is_available() else \"cpu\")\n",
    "\n",
    "# Load the pretrained model and set the number of output labels\n",
    "model_name = \"google/vit-base-patch16-224-in21k\"\n",
    "model = ViTForImageClassification.from_pretrained(model_name, num_labels=5)\n",
    "\n",
    "# Load the saved model weights and map to appropriate device\n",
    "model.load_state_dict(torch.load('vit_liveness_detection_modelV2.pth', map_location=device))\n",
    "\n",
    "# Set model to evaluation mode and move it to the selected device\n",
    "model.eval()\n",
    "model.to(device)\n",
    "\n",
    "# Define image transformation (should match training preprocessing)\n",
    "transform = transforms.Compose([\n",
    "    transforms.Resize((224, 224)),\n",
    "    transforms.ToTensor(),\n",
    "    transforms.Normalize(mean=[0.5, 0.5, 0.5], std=[0.5, 0.5, 0.5]),\n",
    "])\n",
    "\n",
    "print(f\"Model loaded successfully on {device}\")\n"
   ]
  },
  {
   "cell_type": "code",
   "execution_count": null,
   "metadata": {},
   "outputs": [],
   "source": [
    "# Dataset directories\n",
    "test_dir = 'dataset_test'\n",
    "\n",
    "# Load datasets\n",
    "test_dataset = datasets.ImageFolder(root=test_dir, transform=transform)\n",
    "\n",
    "test_loader = DataLoader(test_dataset, batch_size=32, shuffle=True)"
   ]
  },
  {
   "cell_type": "code",
   "execution_count": 12,
   "metadata": {},
   "outputs": [
    {
     "data": {
      "image/png": "[encoded data removed]",
      "text/plain": [
       "<Figure size 600x600 with 2 Axes>"
      ]
     },
     "metadata": {},
     "output_type": "display_data"
    },
    {
     "name": "stdout",
     "output_type": "stream",
     "text": [
      "Classification Report:\n",
      "              precision    recall  f1-score   support\n",
      "\n",
      "           0     0.9091    1.0000    0.9524        10\n",
      "           1     1.0000    0.9000    0.9474        10\n",
      "           2     0.8182    0.9000    0.8571        10\n",
      "           3     1.0000    1.0000    1.0000        10\n",
      "           4     1.0000    0.9000    0.9474        10\n",
      "\n",
      "    accuracy                         0.9400        50\n",
      "   macro avg     0.9455    0.9400    0.9409        50\n",
      "weighted avg     0.9455    0.9400    0.9409        50\n",
      "\n",
      "Test Loss: 0.1589 | Test Accuracy: 0.9400\n"
     ]
    }
   ],
   "source": [
    "import torch\n",
    "import matplotlib.pyplot as plt\n",
    "import numpy as np\n",
    "import seaborn as sns\n",
    "from sklearn.metrics import confusion_matrix, classification_report\n",
    "\n",
    "# Define loss function and optimizer\n",
    "loss_fn = nn.CrossEntropyLoss()\n",
    "optimizer = torch.optim.Adam(model.parameters(), lr=0.0001)\n",
    "\n",
    "# Set model to evaluation mode\n",
    "model.to(device)\n",
    "model.eval()\n",
    "\n",
    "test_loss = 0.0\n",
    "correct = 0\n",
    "total = 0\n",
    "all_preds = []\n",
    "all_labels = []\n",
    "\n",
    "# Disable gradient computation for efficiency\n",
    "with torch.no_grad():  \n",
    "    for images, labels in test_loader:\n",
    "        images, labels = images.to(device), labels.to(device)\n",
    "        outputs = model(images).logits\n",
    "        loss = loss_fn(outputs, labels)\n",
    "\n",
    "        # Compute predictions\n",
    "        _, predicted = torch.max(outputs, 1)\n",
    "        correct += (predicted == labels).sum().item()\n",
    "        total += labels.size(0)\n",
    "        test_loss += loss.item()\n",
    "\n",
    "        # Store predictions and actual labels for further analysis\n",
    "        all_preds.extend(predicted.cpu().numpy())\n",
    "        all_labels.extend(labels.cpu().numpy())\n",
    "\n",
    "# Compute average loss and accuracy\n",
    "test_loss /= len(test_loader)\n",
    "test_accuracy = correct / total\n",
    "\n",
    "# === 1. Confusion Matrix ===\n",
    "cm = confusion_matrix(all_labels, all_preds)\n",
    "plt.figure(figsize=(6,6))\n",
    "sns.heatmap(cm, annot=True, fmt=\"d\", cmap=\"Blues\", xticklabels=range(len(cm)), yticklabels=range(len(cm)))\n",
    "plt.xlabel(\"Predicted Labels\")\n",
    "plt.ylabel(\"Actual Labels\")\n",
    "plt.title(\"Confusion Matrix\")\n",
    "plt.show()\n",
    "\n",
    "# === 2. Classification Report ===\n",
    "print(\"Classification Report:\")\n",
    "print(classification_report(all_labels, all_preds, digits=4))\n",
    "print(f\"Test Loss: {test_loss:.4f} | Test Accuracy: {test_accuracy:.4f}\")\n"
   ]
  }
 ],
 "metadata": {
  "kernelspec": {
   "display_name": ".venv",
   "language": "python",
   "name": "python3"
  },
  "language_info": {
   "codemirror_mode": {
    "name": "ipython",
    "version": 3
   },
   "file_extension": ".py",
   "mimetype": "text/x-python",
   "name": "python",
   "nbconvert_exporter": "python",
   "pygments_lexer": "ipython3",
   "version": "3.12.5"
  }
 },
 "nbformat": 4,
 "nbformat_minor": 4
}
